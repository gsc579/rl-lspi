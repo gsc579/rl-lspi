{
 "cells": [
  {
   "cell_type": "code",
   "execution_count": 1,
   "metadata": {},
   "outputs": [],
   "source": [
    "# install/import lspi package\n",
    "try:\n",
    "    import lspi\n",
    "except ImportError:\n",
    "    !pip install git+https://github.com/qdevpsi3/rl-lspi.git\n",
    "    import lspi"
   ]
  },
  {
   "cell_type": "code",
   "execution_count": 2,
   "metadata": {},
   "outputs": [],
   "source": [
    "import numpy as np"
   ]
  },
  {
   "cell_type": "markdown",
   "metadata": {},
   "source": [
    "# Experiment 1 : LSPI on the *Chain-Walk* environment\n",
    "---------- \n",
    "First, we create a function that computes the *Hamming* distance between the optimal policy and the agent policy."
   ]
  },
  {
   "cell_type": "code",
   "execution_count": 3,
   "metadata": {},
   "outputs": [],
   "source": [
    "def hamming(agent, optimal_policy):\n",
    "    nS = agent.env.observation_space.n\n",
    "    agent_policy = np.array([agent.predict(s) for s in range(nS)])\n",
    "    dist = np.sum(optimal_policy != agent_policy)\n",
    "    return dist"
   ]
  },
  {
   "cell_type": "markdown",
   "metadata": {},
   "source": [
    "## Experiment 1.1 : *Chain-Walk(4)* with Polynomial Features \n",
    "For the first experiment, we perform *LSPI* on 4 states with polynomial features of the form $(1,s,s^2)$ for each action.\n",
    "We also preprocess the states since they are numbered $\\{0,1,2,3\\}$ instead of $\\{1,2,3,4\\}$."
   ]
  },
  {
   "cell_type": "code",
   "execution_count": 4,
   "metadata": {},
   "outputs": [
    {
     "output_type": "stream",
     "name": "stdout",
     "text": [
      "iteration = 00 - distance to optimal policy : 2\n",
      "iteration = 01 - distance to optimal policy : 1\n",
      "iteration = 02 - distance to optimal policy : 1\n",
      "iteration = 03 - distance to optimal policy : 0\n",
      "iteration = 04 - distance to optimal policy : 0\n",
      "iteration = 05 - distance to optimal policy : 0\n"
     ]
    }
   ],
   "source": [
    "# build the environment\n",
    "nS = 4\n",
    "env = lspi.envs.ChainWalkEnv(nS)\n",
    "\n",
    "# build the agent\n",
    "degree = 2\n",
    "preprocess_obs = lambda x: x + 1\n",
    "agent = lspi.agents.PolynomialAgent(env, degree, preprocess_obs)\n",
    "\n",
    "# build the trainer\n",
    "gamma = 0.9\n",
    "memory_size = 500\n",
    "memory_type = 'sample'\n",
    "eval_type = 'sherman_morrison'\n",
    "baseline = lspi.baselines.LSPolicyIteration(env, agent, gamma, memory_size,\n",
    "                                            memory_type, eval_type)\n",
    "\n",
    "# define optimal policy\n",
    "optimal_policy = np.array([1, 1, 0, 0])\n",
    "\n",
    "# build the memory\n",
    "baseline.init_memory()\n",
    "\n",
    "# run the algorithm\n",
    "n_iter = 5\n",
    "dist = hamming(agent, optimal_policy)\n",
    "print('iteration = {:02d} - distance to optimal policy : {}'.format(0, dist))\n",
    "for it in range(1, n_iter + 1):\n",
    "    baseline.train_step()\n",
    "    dist = hamming(agent, optimal_policy)\n",
    "    print('iteration = {:02d} - distance to optimal policy : {}'.format(\n",
    "        it, dist))"
   ]
  },
  {
   "cell_type": "markdown",
   "metadata": {},
   "source": [
    "## Experiment 1.2 : *Chain-Walk(20)* with Polynomial Features \n",
    "For the second experiment, we perform *LSPI* on 20 states with polynomial features of the form $(1,s,s^2,s^3,s^4)$ for each action. A reward of +1 is given only at the boundaries."
   ]
  },
  {
   "cell_type": "code",
   "execution_count": 5,
   "metadata": {},
   "outputs": [],
   "source": [
    "def reward_function(s):\n",
    "    return int(s + 1 in [1, 20])"
   ]
  },
  {
   "cell_type": "code",
   "execution_count": 6,
   "metadata": {},
   "outputs": [
    {
     "output_type": "stream",
     "name": "stdout",
     "text": [
      "iteration = 00 - distance to optimal policy : 10\n",
      "iteration = 01 - distance to optimal policy : 07\n",
      "iteration = 02 - distance to optimal policy : 15\n",
      "iteration = 03 - distance to optimal policy : 04\n",
      "iteration = 04 - distance to optimal policy : 00\n",
      "iteration = 05 - distance to optimal policy : 00\n",
      "iteration = 06 - distance to optimal policy : 00\n",
      "iteration = 07 - distance to optimal policy : 00\n",
      "iteration = 08 - distance to optimal policy : 00\n",
      "iteration = 09 - distance to optimal policy : 00\n",
      "iteration = 10 - distance to optimal policy : 00\n"
     ]
    }
   ],
   "source": [
    "# build the environment\n",
    "nS = 20\n",
    "env = lspi.envs.ChainWalkEnv(nS, reward_function=reward_function)\n",
    "\n",
    "# build the agent\n",
    "degree = 4\n",
    "preprocess_obs = lambda x: x + 1\n",
    "agent = lspi.agents.PolynomialAgent(env, degree, preprocess_obs)\n",
    "\n",
    "# build the trainer\n",
    "gamma = 0.9\n",
    "memory_size = 5000\n",
    "memory_type = 'sample'\n",
    "eval_type = 'batch'\n",
    "baseline = lspi.baselines.LSPolicyIteration(env, agent, gamma, memory_size,\n",
    "                                            memory_type, eval_type)\n",
    "\n",
    "# define optimal policy\n",
    "optimal_policy = np.array(10 * [0] + 10 * [1])\n",
    "\n",
    "# build the memory\n",
    "baseline.init_memory()\n",
    "\n",
    "# run the algorithm\n",
    "n_iter = 10\n",
    "dist = hamming(agent, optimal_policy)\n",
    "print('iteration = {:02d} - distance to optimal policy : {:02d}'.format(\n",
    "    0, dist))\n",
    "for it in range(1, n_iter + 1):\n",
    "    baseline.train_step()\n",
    "    dist = hamming(agent, optimal_policy)\n",
    "    print('iteration = {:02d} - distance to optimal policy : {:02d}'.format(\n",
    "        it, dist))"
   ]
  },
  {
   "cell_type": "markdown",
   "metadata": {},
   "source": [
    "## Experiment 1.3 : *Chain-Walk(50)* with Polynomial Features \n",
    "For the second experiment, we perform *LSPI* on 50 states with polynomial features of the form $(1,s,s^2,s^3,s^4)$ for each action. A reward of +1 is given only at states $10$ and $41$. "
   ]
  },
  {
   "cell_type": "code",
   "execution_count": 7,
   "metadata": {},
   "outputs": [],
   "source": [
    "def reward_function(s):\n",
    "    return int(s + 1 in [10, 41])"
   ]
  },
  {
   "cell_type": "code",
   "execution_count": 8,
   "metadata": {},
   "outputs": [
    {
     "output_type": "stream",
     "name": "stdout",
     "text": [
      "iteration = 00 - distance to optimal policy : 23\n",
      "iteration = 01 - distance to optimal policy : 10\n",
      "iteration = 02 - distance to optimal policy : 08\n",
      "iteration = 03 - distance to optimal policy : 08\n",
      "iteration = 04 - distance to optimal policy : 08\n",
      "iteration = 05 - distance to optimal policy : 08\n",
      "iteration = 06 - distance to optimal policy : 08\n",
      "iteration = 07 - distance to optimal policy : 08\n",
      "iteration = 08 - distance to optimal policy : 08\n",
      "iteration = 09 - distance to optimal policy : 08\n",
      "iteration = 10 - distance to optimal policy : 08\n"
     ]
    }
   ],
   "source": [
    "# build the environment\n",
    "nS = 50\n",
    "env = lspi.envs.ChainWalkEnv(nS, reward_function=reward_function)\n",
    "\n",
    "# build the agent\n",
    "degree = 4\n",
    "preprocess_obs = lambda x: x + 1\n",
    "agent = lspi.agents.PolynomialAgent(env, degree, preprocess_obs)\n",
    "\n",
    "# build the trainer\n",
    "gamma = 0.9\n",
    "memory_size = 10000\n",
    "memory_type = 'sample'\n",
    "eval_type = 'batch'\n",
    "baseline = lspi.baselines.LSPolicyIteration(env, agent, gamma, memory_size,\n",
    "                                            memory_type, eval_type)\n",
    "# define optimal policy\n",
    "optimal_policy = np.array(9 * [1] + 16 * [0] + 16 * [1] + 9 * [0])\n",
    "\n",
    "# build the memory\n",
    "baseline.init_memory()\n",
    "\n",
    "# run the algorithm\n",
    "n_iter = 10\n",
    "dist = hamming(agent, optimal_policy)\n",
    "print('iteration = {:02d} - distance to optimal policy : {:02d}'.format(\n",
    "    0, dist))\n",
    "for it in range(1, n_iter + 1):\n",
    "    baseline.train_step()\n",
    "    dist = hamming(agent, optimal_policy)\n",
    "    print('iteration = {:02d} - distance to optimal policy : {:02d}'.format(\n",
    "        it, dist))"
   ]
  },
  {
   "cell_type": "markdown",
   "metadata": {},
   "source": [
    "## Experiment 1.4 : *Chain-Walk(50)* with RBF Features \n",
    "For the second experiment, we perform *LSPI* on 50 states with RBF features with $10$ means spread uniformly over the state space for each action and variance $\\sigma=4$. A reward of +1 is given only at states $10$ and $41$. "
   ]
  },
  {
   "cell_type": "code",
   "execution_count": 9,
   "metadata": {},
   "outputs": [],
   "source": [
    "def reward_function(s):\n",
    "    return int(s + 1 in [10, 41])"
   ]
  },
  {
   "cell_type": "code",
   "execution_count": 10,
   "metadata": {},
   "outputs": [
    {
     "output_type": "stream",
     "name": "stdout",
     "text": [
      "iteration = 00 - distance to optimal policy : 25\n",
      "iteration = 01 - distance to optimal policy : 22\n",
      "iteration = 02 - distance to optimal policy : 13\n",
      "iteration = 03 - distance to optimal policy : 23\n",
      "iteration = 04 - distance to optimal policy : 15\n",
      "iteration = 05 - distance to optimal policy : 05\n",
      "iteration = 06 - distance to optimal policy : 03\n",
      "iteration = 07 - distance to optimal policy : 04\n",
      "iteration = 08 - distance to optimal policy : 04\n",
      "iteration = 09 - distance to optimal policy : 04\n",
      "iteration = 10 - distance to optimal policy : 04\n"
     ]
    }
   ],
   "source": [
    "# build the environment\n",
    "nS = 50\n",
    "env = lspi.envs.ChainWalkEnv(nS, reward_function=reward_function)\n",
    "\n",
    "# build the agent\n",
    "centers = np.expand_dims(np.linspace(1, 50, 10), 1)\n",
    "sigma = 4\n",
    "preprocess_obs = lambda x: x + 1\n",
    "agent = lspi.agents.RadialAgent(env, centers, sigma, preprocess_obs)\n",
    "\n",
    "# build the trainer\n",
    "gamma = 0.9\n",
    "memory_size = 10000\n",
    "memory_type = 'sample'\n",
    "eval_type = 'batch'\n",
    "baseline = lspi.baselines.LSPolicyIteration(env, agent, gamma, memory_size,\n",
    "                                            memory_type, eval_type)\n",
    "\n",
    "# define optimal policy\n",
    "optimal_policy = np.array(9 * [1] + 16 * [0] + 16 * [1] + 9 * [0])\n",
    "\n",
    "# build the memory\n",
    "baseline.init_memory()\n",
    "\n",
    "# run the algorithm\n",
    "n_iter = 10\n",
    "dist = hamming(agent, optimal_policy)\n",
    "print('iteration = {:02d} - distance to optimal policy : {:02d}'.format(\n",
    "    0, dist))\n",
    "for it in range(1, n_iter + 1):\n",
    "    baseline.train_step()\n",
    "    dist = hamming(agent, optimal_policy)\n",
    "    print('iteration = {:02d} - distance to optimal policy : {:02d}'.format(\n",
    "        it, dist))"
   ]
  }
 ],
 "metadata": {
  "kernelspec": {
   "display_name": "env",
   "language": "python",
   "name": "env"
  },
  "language_info": {
   "codemirror_mode": {
    "name": "ipython",
    "version": 3
   },
   "file_extension": ".py",
   "mimetype": "text/x-python",
   "name": "python",
   "nbconvert_exporter": "python",
   "pygments_lexer": "ipython3",
   "version": "3.6.13-final"
  },
  "toc-autonumbering": false
 },
 "nbformat": 4,
 "nbformat_minor": 4
}