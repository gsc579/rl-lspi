{
 "cells": [
  {
   "cell_type": "code",
   "execution_count": null,
   "metadata": {},
   "outputs": [],
   "source": [
    "# install/import lspi package\n",
    "try:\n",
    "    import lspi\n",
    "except ImportError:\n",
    "    !pip install git+https://github.com/qdevpsi3/rl-lspi.git\n",
    "    import lspi"
   ]
  },
  {
   "cell_type": "code",
   "execution_count": null,
   "metadata": {},
   "outputs": [],
   "source": [
    "import numpy as np"
   ]
  },
  {
   "cell_type": "markdown",
   "metadata": {},
   "source": [
    "# Experiment 2 : LSPI on the *Inverted-Pendulum* environment\n",
    "---------- \n",
    "First, we create a function that takes as input a policy and computes the average number of balancing steps."
   ]
  },
  {
   "cell_type": "code",
   "execution_count": null,
   "metadata": {},
   "outputs": [],
   "source": [
    "def score(agent):\n",
    "    _, episode_lengths = lspi.utils.evaluate_policy(agent,\n",
    "                                                    agent.env,\n",
    "                                                    max_length=3000,\n",
    "                                                    n_eval_episodes=10)\n",
    "    return int(np.mean(episode_lengths))"
   ]
  },
  {
   "cell_type": "markdown",
   "metadata": {},
   "source": [
    "We perform *LSPI* with RBF features : $9$ means spanning the grid $\\{-\\pi/4,0,+\\pi/4\\}\\times\\{-1,0,+1\\}$ and variance $\\sigma=1$.\n",
    "\n",
    "## Experiment 2.1 : *Inverted-Pendulum* environment for $1000$ episodes \n",
    "For the first experiment, the agent collect samples by playing for $1000$ episodes."
   ]
  },
  {
   "cell_type": "code",
   "execution_count": null,
   "metadata": {},
   "outputs": [],
   "source": [
    "# build the environment\n",
    "nA = 3\n",
    "env = lspi.envs.InvertedPendulumEnv(nA)\n",
    "\n",
    "# build the agent\n",
    "grids = [[-np.pi / 4., 0., np.pi / 4], [-1., 0., 1.]]\n",
    "centers = lspi.agents.RadialAgent.get_centers_from_grids(grids)\n",
    "sigma = 1.\n",
    "agent = lspi.agents.RadialAgent(env, centers, sigma)\n",
    "\n",
    "# build the trainer\n",
    "gamma = 0.95\n",
    "memory_size = 1000\n",
    "memory_type = 'episode'\n",
    "eval_type = 'batch'\n",
    "baseline = lspi.baselines.LSPolicyIteration(env, agent, gamma, memory_size,\n",
    "                                            memory_type, eval_type)\n",
    "\n",
    "# build the memory\n",
    "baseline.init_memory()\n",
    "print('memory size = {}'.format(len(baseline.memory)))\n",
    "\n",
    "# run the algorithm\n",
    "n_iter = 10\n",
    "steps = score(agent)\n",
    "print('iteration = {:02d} - average number of balancing steps : {:04d}'.format(\n",
    "    0, steps))\n",
    "for it in range(1, n_iter + 1):\n",
    "    baseline.train_step()\n",
    "    steps = score(agent)\n",
    "    print('iteration = {:02d} - average number of balancing steps : {:04d}'.\n",
    "          format(it, steps))"
   ]
  },
  {
   "cell_type": "markdown",
   "metadata": {},
   "source": [
    "## Experiment 2.2 : Number of training episodes vs. Score\n",
    "For the second experiment, we vary the number of training episodes."
   ]
  },
  {
   "cell_type": "code",
   "execution_count": null,
   "metadata": {},
   "outputs": [],
   "source": [
    "range_episodic_memory = np.linspace(50, 1000, 20).astype(int)\n",
    "n_trials = 10\n",
    "results = []\n",
    "for memory_size in range_episodic_memory:\n",
    "    results.append([])\n",
    "\n",
    "    # build the trainer\n",
    "    baseline = lspi.baselines.LSPolicyIteration(env, agent, gamma, memory_size,\n",
    "                                                memory_type, eval_type)\n",
    "    for _ in range(n_trials):\n",
    "\n",
    "        # build the memory\n",
    "        baseline.init_memory()\n",
    "        # initialize the agent\n",
    "        agent.init_weights()\n",
    "\n",
    "        # run the algorithm\n",
    "        for it in range(1, n_iter + 1):\n",
    "            baseline.train_step()\n",
    "        steps = score(agent)\n",
    "        results[-1].append(steps)\n",
    "\n",
    "    print('n_episodes = {:04d} - average number of balancing steps : {:04d}'.\n",
    "          format(memory_size, int(np.mean(results[-1]))))"
   ]
  },
  {
   "cell_type": "code",
   "execution_count": null,
   "metadata": {},
   "outputs": [],
   "source": [
    "import matplotlib.pyplot as plt\n",
    "\n",
    "plt.style.use('ggplot')\n",
    "plt.title('Inverted pendulum (LSPI): Average balancing steps')\n",
    "plt.xlabel('Number of training episodes')\n",
    "plt.ylabel('Steps')\n",
    "plt.xlim(0, 1000)\n",
    "plt.ylim(0, 3010)\n",
    "\n",
    "x = range_episodic_memory\n",
    "\n",
    "y_mean = np.mean(results, 1)\n",
    "plt.plot(x, y_mean, color='blue')\n",
    "\n",
    "y_max = np.max(results, 1)\n",
    "plt.plot(x, y_max, '--', color='pink')\n",
    "\n",
    "y_min = np.min(results, 1)\n",
    "plt.plot(x, y_min, '--', color='pink')\n",
    "\n",
    "y_std = np.std(results, 1)\n",
    "plt.fill_between(x, y_mean - y_std, y_mean + y_std, color='blue', alpha=.1)\n",
    "\n",
    "plt.show()"
   ]
  },
  {
   "cell_type": "code",
   "execution_count": null,
   "metadata": {},
   "outputs": [],
   "source": []
  }
 ],
 "metadata": {
  "kernelspec": {
   "display_name": "env",
   "language": "python",
   "name": "env"
  },
  "language_info": {
   "codemirror_mode": {
    "name": "ipython",
    "version": 3
   },
   "file_extension": ".py",
   "mimetype": "text/x-python",
   "name": "python",
   "nbconvert_exporter": "python",
   "pygments_lexer": "ipython3",
   "version": "3.6.13"
  }
 },
 "nbformat": 4,
 "nbformat_minor": 4
}
